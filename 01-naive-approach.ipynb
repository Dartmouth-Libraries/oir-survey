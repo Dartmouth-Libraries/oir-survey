{
 "cells": [
  {
   "cell_type": "code",
   "execution_count": 1,
   "metadata": {},
   "outputs": [],
   "source": [
    "import pandas as pd\n",
    "\n",
    "from langchain_dartmouth.llms import ChatDartmouth"
   ]
  },
  {
   "cell_type": "code",
   "execution_count": null,
   "metadata": {},
   "outputs": [],
   "source": [
    "docs = pd.read_csv(\"data/raw/2024_COFE_SS_sample_text.csv\")\n",
    "question = docs.loc[0, \"outcometxt\"]\n",
    "question"
   ]
  },
  {
   "cell_type": "code",
   "execution_count": null,
   "metadata": {},
   "outputs": [],
   "source": [
    "docs = docs.iloc[1:]  # The first row is a comment on the column contents\n",
    "docs = docs.dropna(subset=\"outcometxt\")\n",
    "responses = docs[\"outcometxt\"].to_list()\n",
    "responses[:5]"
   ]
  },
  {
   "cell_type": "code",
   "execution_count": null,
   "metadata": {},
   "outputs": [],
   "source": [
    "llm = ChatDartmouth(\n",
    "    model_name=\"llama-3-1-8b-instruct\",\n",
    "    temperature=0,\n",
    "    seed=42,\n",
    "    max_tokens=60_000,\n",
    ")\n",
    "\n",
    "example_response = (\n",
    "    \"Dartmouth has been a transformative experience that's shaped my academic, \"\n",
    "    \"personal, and professional growth. I've gained invaluable knowledge and \"\n",
    "    \"skills through rigorous courses in econ and international relations, which \"\n",
    "    \"have helped me develop a nuanced perspective on global issues. However, I've \"\n",
    "    \"also struggled with the intense academic pressure and lack of diversity in \"\n",
    "    \"certain departments.\"\n",
    ")\n",
    "\n",
    "example_output = \"\"\"{\n",
    "    \"response\" : <original response>,\n",
    "    \"topics\": [\n",
    "        {\"name\": \"academic and personal growth\", \"sentiment\": \"positive\"},\n",
    "        {\"name\": \"academic rigor\", \"sentiment\": \"positive\"},\n",
    "        {\"name\": \"academic pressure\", \"sentiment\": \"negative\"},\n",
    "        {\"name\": \"lack of diversity\", \"sentiment\": \"negative\"},\n",
    "    ]\n",
    "}\"\"\"\n",
    "\n",
    "prompt = (\n",
    "    \"The following are survey responses from students in their senior year at Dartmouth College.\\n\"\n",
    "    f\"The prompt was: '{question}'\\n\"\n",
    "    \"Identify the topics mentioned in each response, \"\n",
    "    \"as well as the sentiments expressed towards those topics. \"\n",
    "    \"Format your response in valid JSON. Here is an example: \\n\\n\"\n",
    "    f\"Response: \\n'{example_response}'\\n\\n\"\n",
    "    f\"Output: \\n{example_output}\\n\\n\"\n",
    "    \"Here are the responses to process, separated by '\\\\n------\\\\n':\\n\\n\"\n",
    "    f\"{'\\n------\\n'.join(responses)}\"\n",
    ")\n",
    "\n",
    "print(prompt[:1500])"
   ]
  },
  {
   "cell_type": "code",
   "execution_count": null,
   "metadata": {},
   "outputs": [],
   "source": [
    "response = llm.invoke(prompt)"
   ]
  },
  {
   "cell_type": "code",
   "execution_count": null,
   "metadata": {},
   "outputs": [],
   "source": [
    "from langchain_core.output_parsers import JsonOutputParser\n",
    "\n",
    "parser = JsonOutputParser()\n",
    "\n",
    "parser.invoke(response)"
   ]
  }
 ],
 "metadata": {
  "kernelspec": {
   "display_name": ".venv",
   "language": "python",
   "name": "python3"
  },
  "language_info": {
   "codemirror_mode": {
    "name": "ipython",
    "version": 3
   },
   "file_extension": ".py",
   "mimetype": "text/x-python",
   "name": "python",
   "nbconvert_exporter": "python",
   "pygments_lexer": "ipython3",
   "version": "3.12.6"
  }
 },
 "nbformat": 4,
 "nbformat_minor": 2
}
