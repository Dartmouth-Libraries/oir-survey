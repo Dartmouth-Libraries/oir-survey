{
 "cells": [
  {
   "cell_type": "code",
   "execution_count": 67,
   "metadata": {},
   "outputs": [],
   "source": [
    "import pandas as pd\n",
    "\n",
    "from langchain_dartmouth.llms import ChatDartmouth\n",
    "from langchain.prompts import PromptTemplate\n",
    "from langchain_core.output_parsers import JsonOutputParser\n",
    "\n",
    "\n",
    "from itertools import batched"
   ]
  },
  {
   "cell_type": "code",
   "execution_count": null,
   "metadata": {},
   "outputs": [],
   "source": [
    "docs = pd.read_csv(\"data/raw/2024_COFE_SS_sample_text.csv\")\n",
    "question = docs.loc[0, \"outcometxt\"]\n",
    "question"
   ]
  },
  {
   "cell_type": "code",
   "execution_count": null,
   "metadata": {},
   "outputs": [],
   "source": [
    "docs = docs.iloc[1:]  # The first row is a comment on the column contents\n",
    "docs = docs.dropna(subset=\"outcometxt\")\n",
    "responses = docs[\"outcometxt\"].to_list()\n",
    "responses[:5]"
   ]
  },
  {
   "cell_type": "code",
   "execution_count": 70,
   "metadata": {},
   "outputs": [],
   "source": [
    "llm = ChatDartmouth(\n",
    "    model_name=\"llama-3-1-8b-instruct\",\n",
    "    temperature=0,\n",
    "    seed=42,\n",
    "    max_tokens=60_000,\n",
    ")\n",
    "\n",
    "example_response = (\n",
    "    \"Dartmouth has been a transformative experience that's shaped my academic, \"\n",
    "    \"personal, and professional growth. I've gained invaluable knowledge and \"\n",
    "    \"skills through rigorous courses in econ and international relations, which \"\n",
    "    \"have helped me develop a nuanced perspective on global issues. However, I've \"\n",
    "    \"also struggled with the intense academic pressure and lack of diversity in \"\n",
    "    \"certain departments.\\n-----\\n\"\n",
    "    \"My time at Dartmouth has been marked by incredible opportunities for growth \"\n",
    "    \"and learning, with notable high points including studying abroad in Asia and \"\n",
    "    \"leading a successful student organization. However, I've also struggled with \"\n",
    "    \"the intense competition for research funding and the sometimes isolating \"\n",
    "    \"Upper Valley setting, which can make it difficult to connect with peers from \"\n",
    "    \"other parts of the country.\"\n",
    ")\n",
    "\n",
    "example_output = \"\"\"[\n",
    "    {{\n",
    "        \"response\" : <original response 1>,\n",
    "        \"topics\": [\n",
    "            {{\"name\": \"academic and personal growth\", \"sentiment\": \"positive\"}},\n",
    "            {{\"name\": \"academic rigor\", \"sentiment\": \"positive\"}},\n",
    "            {{\"name\": \"academic pressure\", \"sentiment\": \"negative\"}},\n",
    "            {{\"name\": \"lack of diversity\", \"sentiment\": \"negative\"}}\n",
    "        ]\n",
    "    }},\n",
    "    {{\n",
    "        \"response\" : <original response 2>,\n",
    "        \"topics\": [\n",
    "            {{\"name\": \"Dartmouth student organization experience\", \"sentiment\": \"positive\"}},\n",
    "            {{\"name\": \"study abroad experience\", \"sentiment\": \"positive\"}},\n",
    "            {{\"name\": \"research funding\", \"sentiment\": \"negative\"}},\n",
    "            {{\"name\": \"Upper Valley setting\", \"sentiment\": \"negative\"}}\n",
    "        ]\n",
    "    }}\n",
    "]\"\"\"\n",
    "\n",
    "prompt = PromptTemplate.from_template(\n",
    "    (\n",
    "        \"The following are survey responses from students in their senior year at Dartmouth College.\\n\"\n",
    "        \"The prompt was: '{question}'\\n\"\n",
    "        \"Identify the topics mentioned in each response, \"\n",
    "        \"as well as the sentiments expressed towards those topics. \"\n",
    "        \"Format your response in valid JSON. Respond only with the JSON itself. \"\n",
    "        \"Here is an example: \\n\\n\"\n",
    "        \"Response: \\n'\" + example_response + \"'\\n\\n\"\n",
    "        \"Output: \\n\" + example_output + \"\\n\\n\"\n",
    "        \"Here are the responses to process, separated by '\\\\n------\\\\n':\\n\\n\"\n",
    "        \"{responses}\"\n",
    "    )\n",
    ")"
   ]
  },
  {
   "cell_type": "code",
   "execution_count": 76,
   "metadata": {},
   "outputs": [],
   "source": [
    "parser = JsonOutputParser()\n",
    "chain = prompt | llm | parser\n",
    "\n",
    "outputs = []\n",
    "for batch in batched(responses[:20], n=10):\n",
    "    batch = \"\\n------\\n\".join(batch)\n",
    "    response = chain.invoke({\"responses\": batch, \"question\": question})\n",
    "    outputs.extend(response)"
   ]
  },
  {
   "cell_type": "markdown",
   "metadata": {},
   "source": [
    "# TODO:\n",
    "\n",
    "Consolidate the topics in a second pass:\n",
    "- Take all topics identified in the first pass\n",
    "- Prompt the model to merge overlapping topics to standardize the labels\n",
    "- Go over first-pass results and use standardized labels"
   ]
  }
 ],
 "metadata": {
  "kernelspec": {
   "display_name": ".venv",
   "language": "python",
   "name": "python3"
  },
  "language_info": {
   "codemirror_mode": {
    "name": "ipython",
    "version": 3
   },
   "file_extension": ".py",
   "mimetype": "text/x-python",
   "name": "python",
   "nbconvert_exporter": "python",
   "pygments_lexer": "ipython3",
   "version": "3.12.6"
  }
 },
 "nbformat": 4,
 "nbformat_minor": 2
}
